{
 "cells": [
  {
   "cell_type": "code",
   "execution_count": null,
   "metadata": {},
   "outputs": [],
   "source": []
  }
 ],
 "metadata": {
  "kernelspec": {
   "display_name": ".venv",
   "language": "python",
   "name": "python3"
  },
  "language_info": {
   "name": "python",
   "version": "3.10.9 (main, Dec  7 2022, 13:47:07) [GCC 12.2.0]"
  },
  "orig_nbformat": 4,
  "vscode": {
   "interpreter": {
    "hash": "1cf4d26d330bd940cd3598b58e7395cd4bf6375036c16f44bf20492c7926ff2f"
   }
  }
 },
 "nbformat": 4,
 "nbformat_minor": 2
}
